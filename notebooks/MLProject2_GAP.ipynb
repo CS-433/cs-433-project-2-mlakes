{
  "nbformat": 4,
  "nbformat_minor": 0,
  "metadata": {
    "colab": {
      "name": "MLProject2_GAP.ipynb",
      "provenance": [],
      "collapsed_sections": [],
      "toc_visible": true,
      "machine_shape": "hm"
    },
    "kernelspec": {
      "name": "python3",
      "display_name": "Python 3"
    },
    "accelerator": "GPU"
  },
  "cells": [
    {
      "cell_type": "markdown",
      "metadata": {
        "id": "Flq2ly7dnjKr"
      },
      "source": [
        "\n",
        "\n",
        "# **Step-by-step guide: Smiley prediction on Twitter data**\n",
        "\n",
        "In this notebook we will finetune CT-BERT for sentiment (emoji) classification.\n",
        "\n",
        "Learn more about the project [here](https://github.com/CS-433/cs-433-project-2-mlakes/)\n",
        "\n",
        "### **Before proceeding**\n",
        "Create a copy of this notebook by going to:\n",
        " `File 🡒 Save a Copy in Drive`\n",
        "\n",
        "### **Contents**\n",
        "See \"Sommaire\" (table of contents) in the sidebar to the left."
      ]
    },
    {
      "cell_type": "markdown",
      "metadata": {
        "id": "wcWWY9VldBBD"
      },
      "source": [
        "# Colab set-up"
      ]
    },
    {
      "cell_type": "markdown",
      "metadata": {
        "id": "In8j7t_EdgRV"
      },
      "source": [
        "## 0.1 Training with a GPU\n",
        "\n",
        "Make sure to change the runtime type to GPU under:\n",
        "\n",
        "`Exécution 🡒 Modifier le type d'exécution \n",
        "To GPU and if possible Mémoire RAM élevée (Colab Pro)`\n",
        "\n",
        "Verify that we are using GPUs, otherwise training will take a very long time. "
      ]
    },
    {
      "cell_type": "code",
      "metadata": {
        "colab": {
          "base_uri": "https://localhost:8080/"
        },
        "id": "sDwAyzTUdABf",
        "outputId": "9aa27271-1685-4a01-d4ea-532d0c7699da"
      },
      "source": [
        "import torch\n",
        "if torch.cuda.is_available():    \n",
        "    print('There are %d GPU(s) available.' % torch.cuda.device_count())\n",
        "    print('We will use the GPU:', torch.cuda.get_device_name(0))\n",
        "else:\n",
        "    print('No GPU available :( using the CPU instead.')"
      ],
      "execution_count": null,
      "outputs": [
        {
          "output_type": "stream",
          "text": [
            "There are 1 GPU(s) available.\n",
            "We will use the GPU: Tesla P100-PCIE-16GB\n"
          ],
          "name": "stdout"
        }
      ]
    },
    {
      "cell_type": "markdown",
      "metadata": {
        "id": "wcQZJU8ppvvn"
      },
      "source": [
        "## 0.2 Mounting Google Drive. \n",
        "\n",
        "\n",
        "\n"
      ]
    },
    {
      "cell_type": "code",
      "metadata": {
        "id": "TFI-JcGdqOgc",
        "colab": {
          "base_uri": "https://localhost:8080/"
        },
        "outputId": "02062f8a-1945-4ca4-b3cd-0f255b09b997"
      },
      "source": [
        "# Mounting the Drive allows us to save and access our files\n",
        "from google.colab import drive\n",
        "drive.mount('/content/drive/', force_remount=True)"
      ],
      "execution_count": null,
      "outputs": [
        {
          "output_type": "stream",
          "text": [
            "Mounted at /content/drive/\n"
          ],
          "name": "stdout"
        }
      ]
    },
    {
      "cell_type": "code",
      "metadata": {
        "id": "JMucvrEHqyAH"
      },
      "source": [
        "# Go to main directory\n",
        "import os\n",
        "os.chdir(\"/content/drive/My Drive\")"
      ],
      "execution_count": null,
      "outputs": []
    },
    {
      "cell_type": "markdown",
      "metadata": {
        "id": "uLA25BLZhNPB"
      },
      "source": [
        "## 0.3 Cloning the repository\n"
      ]
    },
    {
      "cell_type": "code",
      "metadata": {
        "colab": {
          "base_uri": "https://localhost:8080/"
        },
        "id": "K_ZH5zV5fsBe",
        "outputId": "934b0e0d-2f5c-41cc-a9a0-07ccebb17374"
      },
      "source": [
        "# Clone our repo \n",
        "!git clone https://paola-md:<>@github.com/CS-433/cs-433-project-2-mlakes MLProject2"
      ],
      "execution_count": null,
      "outputs": [
        {
          "output_type": "stream",
          "text": [
            "fatal: destination path 'MLProject2' already exists and is not an empty directory.\n"
          ],
          "name": "stdout"
        }
      ]
    },
    {
      "cell_type": "code",
      "metadata": {
        "id": "Rq9VonJQcDMu",
        "colab": {
          "base_uri": "https://localhost:8080/"
        },
        "outputId": "d8598404-9097-422c-d566-8aa6ae86f50c"
      },
      "source": [
        "# Move to repository and visualize files (similar to cd MLProject2 and ls)\n",
        "os.chdir(\"/content/drive/My Drive/MLProject2\")\n",
        "os.listdir()"
      ],
      "execution_count": null,
      "outputs": [
        {
          "output_type": "execute_result",
          "data": {
            "text/plain": [
              "['.git',\n",
              " '.gitignore',\n",
              " 'Dockerfile-notebook',\n",
              " 'README.md',\n",
              " 'data',\n",
              " 'docs',\n",
              " 'models',\n",
              " 'notebooks',\n",
              " 'predictions',\n",
              " 'requirements.txt',\n",
              " 'src',\n",
              " 'test']"
            ]
          },
          "metadata": {
            "tags": []
          },
          "execution_count": 23
        }
      ]
    },
    {
      "cell_type": "markdown",
      "metadata": {
        "id": "xW436SUktcOT"
      },
      "source": [
        "# Download Dataset\n",
        "Download the data from [here](https://www.aicrowd.com/challenges/epfl-ml-text-classification/dataset_files) and place it in folder data. You can also download our [copy](https://drive.google.com/file/d/1ve0X5Mj6RAhtb4XFZUa5W_A9HIt4-bgE/view?usp=sharing) from Drive "
      ]
    },
    {
      "cell_type": "code",
      "metadata": {
        "colab": {
          "base_uri": "https://localhost:8080/"
        },
        "id": "A84SZ9RXi3Tl",
        "outputId": "8b04ce47-094e-4201-aab3-93c859fc5254"
      },
      "source": [
        "!unzip data/twitter-datasets.zip -d data/"
      ],
      "execution_count": null,
      "outputs": [
        {
          "output_type": "stream",
          "text": [
            "Archive:  data/twitter-datasets.zip\n",
            "  inflating: data/twitter-datasets/sample_submission.csv  \n",
            "  inflating: data/twitter-datasets/test_data.txt  \n",
            "  inflating: data/twitter-datasets/train_neg_full.txt  \n",
            "  inflating: data/twitter-datasets/train_neg.txt  \n",
            "  inflating: data/twitter-datasets/train_pos_full.txt  \n",
            "  inflating: data/twitter-datasets/train_pos.txt  \n"
          ],
          "name": "stdout"
        }
      ]
    },
    {
      "cell_type": "code",
      "metadata": {
        "id": "yXnm9yJJwTz3"
      },
      "source": [
        "# Move to main data folder\n",
        "!mv data/twitter-datasets/train_neg.txt data/train_neg.txt \n",
        "!mv data/twitter-datasets/train_pos.txt data/train_pos.txt \n",
        "!mv data/twitter-datasets/train_neg_full.txt data/train_neg_full.txt \n",
        "!mv data/twitter-datasets/train_pos_full.txt data/train_pos_full.txt \n",
        "!mv data/twitter-datasets/test_data.txt data/test_data.txt"
      ],
      "execution_count": null,
      "outputs": []
    },
    {
      "cell_type": "markdown",
      "metadata": {
        "id": "mYD-ZFYLtw5I"
      },
      "source": [
        "# Install and import libraries\n",
        "Install the required dependencies"
      ]
    },
    {
      "cell_type": "code",
      "metadata": {
        "id": "UXcakxOhtv1q"
      },
      "source": [
        "%%capture\n",
        "!pip install git+https://github.com/huggingface/transformers.git\n",
        "!pip install emoji\n",
        "!pip install unidecode\n",
        "!pip install flair"
      ],
      "execution_count": null,
      "outputs": []
    },
    {
      "cell_type": "code",
      "metadata": {
        "id": "EZnWw7XruBNt"
      },
      "source": [
        "import sys\n",
        "sys.path.append(\"/content/drive/My Drive/MLProject2\")"
      ],
      "execution_count": null,
      "outputs": []
    },
    {
      "cell_type": "code",
      "metadata": {
        "id": "VZiVgEo8vNyh"
      },
      "source": [
        "import pandas as pd\n",
        "import numpy as np\n",
        "\n",
        "from src.preprocessing import apply_preprocessing, apply_preprocessing_bert\n",
        "from src.data_loading import load_tweets, load_test_tweets, split_data, seed_everything, split_data_bert\n",
        "from src.models.bi_lstm import run_bidirectional_lstm\n",
        "from src.models.machine_learning_models import run_tfidf_ml_model\n",
        "from src.models.few_shot import run_zero_shot\n",
        "from src.models.bert import run_bert, predict_bert"
      ],
      "execution_count": null,
      "outputs": []
    },
    {
      "cell_type": "markdown",
      "metadata": {
        "id": "-xf9GWjynC25"
      },
      "source": [
        "# Training"
      ]
    },
    {
      "cell_type": "code",
      "metadata": {
        "id": "fK8V9vvfvTAd"
      },
      "source": [
        "# Global variables\n",
        "model_name = 'digitalepidemiologylab/covid-twitter-bert'\n",
        "\n",
        "# For reproductibility \n",
        "seed_everything()"
      ],
      "execution_count": null,
      "outputs": []
    },
    {
      "cell_type": "markdown",
      "metadata": {
        "id": "USSCvIXZnJ4O"
      },
      "source": [
        "## 1.1 Load the training set"
      ]
    },
    {
      "cell_type": "code",
      "metadata": {
        "id": "byJHwHt2xcrT"
      },
      "source": [
        "os.chdir(\"/content/drive/My Drive/MLProject2/src\")"
      ],
      "execution_count": null,
      "outputs": []
    },
    {
      "cell_type": "markdown",
      "metadata": {
        "id": "9EhExwZUnTIm"
      },
      "source": [
        "In order to demostrate the training pipeline we are going to use a small fraction of the dataset.\n",
        "Please note that the model training was used with ALL the data"
      ]
    },
    {
      "cell_type": "code",
      "metadata": {
        "colab": {
          "base_uri": "https://localhost:8080/"
        },
        "id": "xgYw1bF5vmHK",
        "outputId": "339e4981-8dbe-42c6-bcc9-52dcb9f3fcd5"
      },
      "source": [
        "#tweets = load_tweets(sample=False, frac=1)\n",
        "tweets = load_tweets(sample=True, frac=0.01)"
      ],
      "execution_count": null,
      "outputs": [
        {
          "output_type": "stream",
          "text": [
            "Positive tweets: 97902\n",
            "Negative tweets: 99068\n",
            "Most frequent label model: 0.503\n"
          ],
          "name": "stdout"
        }
      ]
    },
    {
      "cell_type": "markdown",
      "metadata": {
        "id": "tIksRotxzl_H"
      },
      "source": [
        "## 1.2 Preprocess the training set\n",
        "\n",
        "Preprocessing does two things:\n",
        "1. cleans the tweets \n",
        "2. tokenizes the cleaned tweets by:\n",
        "  * adding [CLS] and [SEP] tokens\n",
        "  * adds padding (maximum length 100)\n",
        "  * creates attention masks\n",
        "\n",
        "\n"
      ]
    },
    {
      "cell_type": "code",
      "metadata": {
        "colab": {
          "base_uri": "https://localhost:8080/"
        },
        "id": "vdf7TiVAKF3w",
        "outputId": "03104302-7fc9-46c9-87a8-c23ed92711c5"
      },
      "source": [
        "# Example of clean function\n",
        "raw_tweet = tweets.tweet[9]\n",
        "cleaned_tweet = clean_text(raw_tweet)\n",
        "print(raw_tweet)\n",
        "print(cleaned_tweet)\n",
        "\n",
        "raw_tweet = tweets.tweet[17]\n",
        "cleaned_tweet = clean_text(raw_tweet)\n",
        "print(raw_tweet)\n",
        "print(cleaned_tweet)"
      ],
      "execution_count": null,
      "outputs": [
        {
          "output_type": "stream",
          "text": [
            "<user> translation pleaseee for international fans\n",
            "translation please for international fans\n",
            "<user> i #believe one day u will notice me ..  ...\n",
            "i believe one day you will notice me .. ...\n"
          ],
          "name": "stdout"
        }
      ]
    },
    {
      "cell_type": "code",
      "metadata": {
        "id": "7suSJzgmxs3Q"
      },
      "source": [
        "tweets = apply_preprocessing_bert(tweets)"
      ],
      "execution_count": null,
      "outputs": []
    },
    {
      "cell_type": "markdown",
      "metadata": {
        "id": "dg-ys92uol2c"
      },
      "source": [
        "After the preprocessing, we have a tensor of three parts.\n",
        "1. Tokens\n",
        "2. Attention mask\n",
        "3. Label\n",
        "\n",
        "See the example below"
      ]
    },
    {
      "cell_type": "code",
      "metadata": {
        "colab": {
          "base_uri": "https://localhost:8080/"
        },
        "id": "CsB0Kw5ooXp9",
        "outputId": "1dc8516e-b5e2-40db-affc-254fa213cf52"
      },
      "source": [
        "tweets[17]"
      ],
      "execution_count": null,
      "outputs": [
        {
          "output_type": "execute_result",
          "data": {
            "text/plain": [
              "(tensor([ 101, 1045, 2903, 2028, 2154, 2017, 2097, 5060, 2033, 1012, 1012, 1012,\n",
              "         1012, 1012,  102,    0,    0,    0,    0,    0,    0,    0,    0,    0,\n",
              "            0,    0,    0,    0,    0,    0,    0,    0,    0,    0,    0,    0,\n",
              "            0,    0,    0,    0,    0,    0,    0,    0,    0,    0,    0,    0,\n",
              "            0,    0,    0,    0,    0,    0,    0,    0,    0,    0,    0,    0,\n",
              "            0,    0,    0,    0,    0,    0,    0,    0,    0,    0,    0,    0,\n",
              "            0,    0,    0,    0,    0,    0,    0,    0,    0,    0,    0,    0,\n",
              "            0,    0,    0,    0,    0,    0,    0,    0,    0,    0,    0,    0]),\n",
              " tensor([1, 1, 1, 1, 1, 1, 1, 1, 1, 1, 1, 1, 1, 1, 1, 0, 0, 0, 0, 0, 0, 0, 0, 0,\n",
              "         0, 0, 0, 0, 0, 0, 0, 0, 0, 0, 0, 0, 0, 0, 0, 0, 0, 0, 0, 0, 0, 0, 0, 0,\n",
              "         0, 0, 0, 0, 0, 0, 0, 0, 0, 0, 0, 0, 0, 0, 0, 0, 0, 0, 0, 0, 0, 0, 0, 0,\n",
              "         0, 0, 0, 0, 0, 0, 0, 0, 0, 0, 0, 0, 0, 0, 0, 0, 0, 0, 0, 0, 0, 0, 0, 0]),\n",
              " tensor(1))"
            ]
          },
          "metadata": {
            "tags": []
          },
          "execution_count": 65
        }
      ]
    },
    {
      "cell_type": "markdown",
      "metadata": {
        "id": "r0LtvY5Q0k_8"
      },
      "source": [
        "## 1.3 Transformer training\n",
        "\n"
      ]
    },
    {
      "cell_type": "markdown",
      "metadata": {
        "id": "KAexdKJCpMMe"
      },
      "source": [
        "For this example we used 90% for training and 10% for testing. Note that for the final model 100% of the data was used to train."
      ]
    },
    {
      "cell_type": "code",
      "metadata": {
        "id": "_LbHerXuxyKC"
      },
      "source": [
        "train_tweets, val_tweets = split_data_bert(tweets, ratio=0.9)\n"
      ],
      "execution_count": null,
      "outputs": []
    },
    {
      "cell_type": "code",
      "metadata": {
        "colab": {
          "base_uri": "https://localhost:8080/"
        },
        "id": "eNUUJ6MLztsD",
        "outputId": "04097a13-9725-4630-b56f-47889f329205"
      },
      "source": [
        "run_bert(train_tweets=train_tweets,\n",
        "          val_tweets=val_tweets,\n",
        "          save_model = True,\n",
        "          learning_rate = 5e-6,\n",
        "          model_name = 'bert',\n",
        "          epochs = 3)"
      ],
      "execution_count": null,
      "outputs": [
        {
          "output_type": "stream",
          "text": [
            "\n",
            "----------------------------------------------------------------------------------------------------\n",
            "MODEL TO RUN: Neural network with bert tokens\n",
            "----------------------------------------------------------------------------------------------------\n",
            "\n",
            "Creating batches...\n"
          ],
          "name": "stdout"
        },
        {
          "output_type": "stream",
          "text": [
            "Some weights of the model checkpoint at digitalepidemiologylab/covid-twitter-bert were not used when initializing BertForSequenceClassification: ['cls.predictions.bias', 'cls.predictions.transform.dense.weight', 'cls.predictions.transform.dense.bias', 'cls.predictions.transform.LayerNorm.weight', 'cls.predictions.transform.LayerNorm.bias', 'cls.predictions.decoder.weight', 'cls.predictions.decoder.bias', 'cls.seq_relationship.weight', 'cls.seq_relationship.bias']\n",
            "- This IS expected if you are initializing BertForSequenceClassification from the checkpoint of a model trained on another task or with another architecture (e.g. initializing a BertForSequenceClassification model from a BertForPreTraining model).\n",
            "- This IS NOT expected if you are initializing BertForSequenceClassification from the checkpoint of a model that you expect to be exactly identical (initializing a BertForSequenceClassification model from a BertForSequenceClassification model).\n",
            "Some weights of BertForSequenceClassification were not initialized from the model checkpoint at digitalepidemiologylab/covid-twitter-bert and are newly initialized: ['classifier.weight', 'classifier.bias']\n",
            "You should probably TRAIN this model on a down-stream task to be able to use it for predictions and inference.\n",
            "Iteration: 100%|██████████| 4962/4962 [1:18:07<00:00,  1.06it/s]\n"
          ],
          "name": "stderr"
        },
        {
          "output_type": "stream",
          "text": [
            "Saving model...\n"
          ],
          "name": "stdout"
        },
        {
          "output_type": "stream",
          "text": [
            "\rIteration:   0%|          | 0/552 [00:00<?, ?it/s]"
          ],
          "name": "stderr"
        },
        {
          "output_type": "stream",
          "text": [
            "./../models/bert_0\n",
            "Done!\n"
          ],
          "name": "stdout"
        },
        {
          "output_type": "stream",
          "text": [
            "Iteration: 100%|██████████| 552/552 [02:46<00:00,  3.31it/s]\n",
            "Iteration:   0%|          | 0/4962 [00:00<?, ?it/s]"
          ],
          "name": "stderr"
        },
        {
          "output_type": "stream",
          "text": [
            "EPOCH: 0. Losses: train = 0.33622857421059993, val = 0.31632226176451944.             Accuracy: 0.8713654891304348\n"
          ],
          "name": "stdout"
        },
        {
          "output_type": "stream",
          "text": [
            "Iteration: 100%|██████████| 4962/4962 [1:18:05<00:00,  1.06it/s]\n"
          ],
          "name": "stderr"
        },
        {
          "output_type": "stream",
          "text": [
            "Saving model...\n"
          ],
          "name": "stdout"
        },
        {
          "output_type": "stream",
          "text": [
            "\rIteration:   0%|          | 0/552 [00:00<?, ?it/s]"
          ],
          "name": "stderr"
        },
        {
          "output_type": "stream",
          "text": [
            "./../models/bert_1\n",
            "Done!\n"
          ],
          "name": "stdout"
        },
        {
          "output_type": "stream",
          "text": [
            "Iteration: 100%|██████████| 552/552 [02:46<00:00,  3.32it/s]\n",
            "Iteration:   0%|          | 0/4962 [00:00<?, ?it/s]"
          ],
          "name": "stderr"
        },
        {
          "output_type": "stream",
          "text": [
            "EPOCH: 1. Losses: train = 0.21659452503930712, val = 0.3242368784739865.             Accuracy: 0.8776947463768117\n"
          ],
          "name": "stdout"
        },
        {
          "output_type": "stream",
          "text": [
            "Iteration: 100%|██████████| 4962/4962 [1:18:04<00:00,  1.06it/s]\n"
          ],
          "name": "stderr"
        },
        {
          "output_type": "stream",
          "text": [
            "Saving model...\n"
          ],
          "name": "stdout"
        },
        {
          "output_type": "stream",
          "text": [
            "\rIteration:   0%|          | 0/552 [00:00<?, ?it/s]"
          ],
          "name": "stderr"
        },
        {
          "output_type": "stream",
          "text": [
            "./../models/bert_2\n",
            "Done!\n"
          ],
          "name": "stdout"
        },
        {
          "output_type": "stream",
          "text": [
            "Iteration: 100%|██████████| 552/552 [02:46<00:00,  3.32it/s]"
          ],
          "name": "stderr"
        },
        {
          "output_type": "stream",
          "text": [
            "EPOCH: 2. Losses: train = 0.1304507609538423, val = 0.42078522598350665.             Accuracy: 0.8735054347826087\n"
          ],
          "name": "stdout"
        },
        {
          "output_type": "stream",
          "text": [
            "\n"
          ],
          "name": "stderr"
        }
      ]
    },
    {
      "cell_type": "markdown",
      "metadata": {
        "id": "sOfcBYYvAhmq"
      },
      "source": [
        "# Testing\n",
        "Now we are going to use the trained model to predict.\n",
        "\n",
        "You can also use our pre-trained model with all the data. Download the model [here](https://drive.google.com/drive/folders/1aLWxJdPFwOyqvNkkc_QyzhBC9ofY9tgS?usp=sharing) and place it in the models folder. "
      ]
    },
    {
      "cell_type": "markdown",
      "metadata": {
        "id": "md1yIx5hqEss"
      },
      "source": [
        "## 2.1 Load the testing set"
      ]
    },
    {
      "cell_type": "code",
      "metadata": {
        "id": "PEbiaYVHqBeZ"
      },
      "source": [
        "test_tweets = load_test_tweets()\n",
        "test_tweets['polarity'] =  pd.to_numeric(test_tweets.id)  # to use same preprocessing function"
      ],
      "execution_count": null,
      "outputs": []
    },
    {
      "cell_type": "markdown",
      "metadata": {
        "id": "AWh5nT3iqTZf"
      },
      "source": [
        "## 2.2 Preprocess the testing set"
      ]
    },
    {
      "cell_type": "code",
      "metadata": {
        "id": "caFc04QvFABB"
      },
      "source": [
        "dataset = apply_preprocessing_bert(test_tweets)"
      ],
      "execution_count": null,
      "outputs": []
    },
    {
      "cell_type": "markdown",
      "metadata": {
        "id": "f6-0q9WFqjny"
      },
      "source": [
        "## 2.3 Make the predictions with our model"
      ]
    },
    {
      "cell_type": "code",
      "metadata": {
        "colab": {
          "base_uri": "https://localhost:8080/"
        },
        "id": "KxprUqfuqpUp",
        "outputId": "904eca4b-3a9e-4238-a9ea-ee7b4a39cb3f"
      },
      "source": [
        "test_ids_list, binary_preds_list = predict_bert(dataset, 'bert_2')"
      ],
      "execution_count": null,
      "outputs": [
        {
          "output_type": "stream",
          "text": [
            "Iteration: 100%|██████████| 288/288 [01:26<00:00,  3.32it/s]\n"
          ],
          "name": "stderr"
        }
      ]
    },
    {
      "cell_type": "markdown",
      "metadata": {
        "id": "ayoKK5Sjqtrm"
      },
      "source": [
        "## 2.4 Format and save the predictions"
      ]
    },
    {
      "cell_type": "code",
      "metadata": {
        "id": "9aft0usS0FYf"
      },
      "source": [
        "test_ids = np.concatenate(test_ids_list).ravel()\n",
        "binary_preds = np.concatenate(binary_preds_list).ravel()\n",
        "binary_preds = np.where(binary_preds==0, -1, binary_preds) \n",
        "results = pd.DataFrame({'Id': test_ids, 'Prediction': binary_preds})\n",
        "results.to_csv(\"./../predictions/predictions.csv\", index=False)"
      ],
      "execution_count": null,
      "outputs": []
    },
    {
      "cell_type": "code",
      "metadata": {
        "colab": {
          "base_uri": "https://localhost:8080/",
          "height": 202
        },
        "id": "QfcL5mrAVOuw",
        "outputId": "9b727e34-2e1d-4a86-85e0-e05f38b637b1"
      },
      "source": [
        "results.head()"
      ],
      "execution_count": null,
      "outputs": [
        {
          "output_type": "execute_result",
          "data": {
            "text/html": [
              "<div>\n",
              "<style scoped>\n",
              "    .dataframe tbody tr th:only-of-type {\n",
              "        vertical-align: middle;\n",
              "    }\n",
              "\n",
              "    .dataframe tbody tr th {\n",
              "        vertical-align: top;\n",
              "    }\n",
              "\n",
              "    .dataframe thead th {\n",
              "        text-align: right;\n",
              "    }\n",
              "</style>\n",
              "<table border=\"1\" class=\"dataframe\">\n",
              "  <thead>\n",
              "    <tr style=\"text-align: right;\">\n",
              "      <th></th>\n",
              "      <th>Id</th>\n",
              "      <th>Prediction</th>\n",
              "    </tr>\n",
              "  </thead>\n",
              "  <tbody>\n",
              "    <tr>\n",
              "      <th>0</th>\n",
              "      <td>1</td>\n",
              "      <td>-1</td>\n",
              "    </tr>\n",
              "    <tr>\n",
              "      <th>1</th>\n",
              "      <td>2</td>\n",
              "      <td>-1</td>\n",
              "    </tr>\n",
              "    <tr>\n",
              "      <th>2</th>\n",
              "      <td>3</td>\n",
              "      <td>1</td>\n",
              "    </tr>\n",
              "    <tr>\n",
              "      <th>3</th>\n",
              "      <td>4</td>\n",
              "      <td>1</td>\n",
              "    </tr>\n",
              "    <tr>\n",
              "      <th>4</th>\n",
              "      <td>5</td>\n",
              "      <td>-1</td>\n",
              "    </tr>\n",
              "  </tbody>\n",
              "</table>\n",
              "</div>"
            ],
            "text/plain": [
              "   Id  Prediction\n",
              "0   1          -1\n",
              "1   2          -1\n",
              "2   3           1\n",
              "3   4           1\n",
              "4   5          -1"
            ]
          },
          "metadata": {
            "tags": []
          },
          "execution_count": 72
        }
      ]
    },
    {
      "cell_type": "markdown",
      "metadata": {
        "id": "UOMgxMK7P3xp"
      },
      "source": [
        "# Run models with embeddings\n",
        "\n",
        "The BiLSTM can be trained with glove and word2vec embeddings.\n"
      ]
    },
    {
      "cell_type": "markdown",
      "metadata": {
        "id": "hiuAY9IyTQQb"
      },
      "source": [
        "## 3.1 Word2Vec\n",
        "Constructs a a vocabulary list of words appearing at least 5 times.\n"
      ]
    },
    {
      "cell_type": "code",
      "metadata": {
        "id": "QagakZ0vhiFw"
      },
      "source": [
        "os.chdir(\"/content/drive/My Drive/MLProject2\")"
      ],
      "execution_count": null,
      "outputs": []
    },
    {
      "cell_type": "code",
      "metadata": {
        "id": "f-r6bc0FTOpW"
      },
      "source": [
        "!sh src/preprocessing_glove/build_vocab.sh\n",
        "!sh src/preprocessing_glove/cut_vocab.sh\n",
        "!python src/preprocessing_glove/pickle_vocab.py\n"
      ],
      "execution_count": null,
      "outputs": []
    },
    {
      "cell_type": "code",
      "metadata": {
        "id": "R7-Bvzt6iIRl"
      },
      "source": [
        "os.chdir(\"/content/drive/My Drive/MLProject2/src\")"
      ],
      "execution_count": null,
      "outputs": []
    },
    {
      "cell_type": "code",
      "metadata": {
        "id": "6WsQPc1afFIP"
      },
      "source": [
        "tweets = load_tweets(sample=True, frac=0.001)\n",
        "tweets = apply_preprocessing(tweets)\n",
        "run_bidirectional_lstm(tweets=tweets[['tweet']],\n",
        "                        labels=tweets[['polarity']],\n",
        "                        save_model=False,\n",
        "                        embeddings='word2vec')"
      ],
      "execution_count": null,
      "outputs": []
    },
    {
      "cell_type": "markdown",
      "metadata": {
        "id": "yshTc6TDWbof"
      },
      "source": [
        "## 3.2 GloVe"
      ]
    },
    {
      "cell_type": "code",
      "metadata": {
        "id": "f2DErj8kW8O6"
      },
      "source": [
        "os.chdir(\"/content/drive/My Drive/MLProject2\")"
      ],
      "execution_count": null,
      "outputs": []
    },
    {
      "cell_type": "code",
      "metadata": {
        "id": "QNQSJ_m0WbRO"
      },
      "source": [
        "!wget http://nlp.stanford.edu/data/glove.twitter.27B.zip\n",
        "!mv glove.twitter.27B.zip data/embeddings/glove.twitter.27B.zip\n",
        "!unzip data/embeddings/glove.twitter.27B.zip -d data/embeddings"
      ],
      "execution_count": null,
      "outputs": []
    },
    {
      "cell_type": "code",
      "metadata": {
        "id": "B8o_QfHzesxH"
      },
      "source": [
        "os.chdir(\"/content/drive/My Drive/MLProject2/src\")"
      ],
      "execution_count": null,
      "outputs": []
    },
    {
      "cell_type": "code",
      "metadata": {
        "id": "z2MCtatPW6LR"
      },
      "source": [
        "run_bidirectional_lstm(tweets=tweets[['tweet']],\n",
        "                        labels=tweets[['polarity']],\n",
        "                        save_model=False,\n",
        "                        embeddings='glove')"
      ],
      "execution_count": null,
      "outputs": []
    }
  ]
}