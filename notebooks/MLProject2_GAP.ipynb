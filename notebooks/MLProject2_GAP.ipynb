{
  "nbformat": 4,
  "nbformat_minor": 0,
  "metadata": {
    "colab": {
      "name": "MLProject2_GAP.ipynb",
      "provenance": [],
      "collapsed_sections": [],
      "toc_visible": true,
      "machine_shape": "hm"
    },
    "kernelspec": {
      "name": "python3",
      "display_name": "Python 3"
    },
    "accelerator": "GPU",
    "widgets": {
      "application/vnd.jupyter.widget-state+json": {
        "eff8797500864aa88c7d32728ea27972": {
          "model_module": "@jupyter-widgets/controls",
          "model_name": "HBoxModel",
          "state": {
            "_view_name": "HBoxView",
            "_dom_classes": [],
            "_model_name": "HBoxModel",
            "_view_module": "@jupyter-widgets/controls",
            "_model_module_version": "1.5.0",
            "_view_count": null,
            "_view_module_version": "1.5.0",
            "box_style": "",
            "layout": "IPY_MODEL_ec808ab3da8c42c7a90c6e4962511f8e",
            "_model_module": "@jupyter-widgets/controls",
            "children": [
              "IPY_MODEL_5779feb9e76344b0b598d4364756cbd6",
              "IPY_MODEL_3d27da18e3374e54891f0adad934070d"
            ]
          }
        },
        "ec808ab3da8c42c7a90c6e4962511f8e": {
          "model_module": "@jupyter-widgets/base",
          "model_name": "LayoutModel",
          "state": {
            "_view_name": "LayoutView",
            "grid_template_rows": null,
            "right": null,
            "justify_content": null,
            "_view_module": "@jupyter-widgets/base",
            "overflow": null,
            "_model_module_version": "1.2.0",
            "_view_count": null,
            "flex_flow": null,
            "width": null,
            "min_width": null,
            "border": null,
            "align_items": null,
            "bottom": null,
            "_model_module": "@jupyter-widgets/base",
            "top": null,
            "grid_column": null,
            "overflow_y": null,
            "overflow_x": null,
            "grid_auto_flow": null,
            "grid_area": null,
            "grid_template_columns": null,
            "flex": null,
            "_model_name": "LayoutModel",
            "justify_items": null,
            "grid_row": null,
            "max_height": null,
            "align_content": null,
            "visibility": null,
            "align_self": null,
            "height": null,
            "min_height": null,
            "padding": null,
            "grid_auto_rows": null,
            "grid_gap": null,
            "max_width": null,
            "order": null,
            "_view_module_version": "1.2.0",
            "grid_template_areas": null,
            "object_position": null,
            "object_fit": null,
            "grid_auto_columns": null,
            "margin": null,
            "display": null,
            "left": null
          }
        },
        "5779feb9e76344b0b598d4364756cbd6": {
          "model_module": "@jupyter-widgets/controls",
          "model_name": "FloatProgressModel",
          "state": {
            "_view_name": "ProgressView",
            "style": "IPY_MODEL_e8cbca54a51b4b0db315951fc7df0c0f",
            "_dom_classes": [],
            "description": "Downloading: 100%",
            "_model_name": "FloatProgressModel",
            "bar_style": "success",
            "max": 421,
            "_view_module": "@jupyter-widgets/controls",
            "_model_module_version": "1.5.0",
            "value": 421,
            "_view_count": null,
            "_view_module_version": "1.5.0",
            "orientation": "horizontal",
            "min": 0,
            "description_tooltip": null,
            "_model_module": "@jupyter-widgets/controls",
            "layout": "IPY_MODEL_7592e62e108345ecbc1a146a65307d23"
          }
        },
        "3d27da18e3374e54891f0adad934070d": {
          "model_module": "@jupyter-widgets/controls",
          "model_name": "HTMLModel",
          "state": {
            "_view_name": "HTMLView",
            "style": "IPY_MODEL_0a693db765544fbda405d664036990f1",
            "_dom_classes": [],
            "description": "",
            "_model_name": "HTMLModel",
            "placeholder": "​",
            "_view_module": "@jupyter-widgets/controls",
            "_model_module_version": "1.5.0",
            "value": " 421/421 [00:01&lt;00:00, 214B/s]",
            "_view_count": null,
            "_view_module_version": "1.5.0",
            "description_tooltip": null,
            "_model_module": "@jupyter-widgets/controls",
            "layout": "IPY_MODEL_4db600f30fc24b3aad8c03a931c611f9"
          }
        },
        "e8cbca54a51b4b0db315951fc7df0c0f": {
          "model_module": "@jupyter-widgets/controls",
          "model_name": "ProgressStyleModel",
          "state": {
            "_view_name": "StyleView",
            "_model_name": "ProgressStyleModel",
            "description_width": "initial",
            "_view_module": "@jupyter-widgets/base",
            "_model_module_version": "1.5.0",
            "_view_count": null,
            "_view_module_version": "1.2.0",
            "bar_color": null,
            "_model_module": "@jupyter-widgets/controls"
          }
        },
        "7592e62e108345ecbc1a146a65307d23": {
          "model_module": "@jupyter-widgets/base",
          "model_name": "LayoutModel",
          "state": {
            "_view_name": "LayoutView",
            "grid_template_rows": null,
            "right": null,
            "justify_content": null,
            "_view_module": "@jupyter-widgets/base",
            "overflow": null,
            "_model_module_version": "1.2.0",
            "_view_count": null,
            "flex_flow": null,
            "width": null,
            "min_width": null,
            "border": null,
            "align_items": null,
            "bottom": null,
            "_model_module": "@jupyter-widgets/base",
            "top": null,
            "grid_column": null,
            "overflow_y": null,
            "overflow_x": null,
            "grid_auto_flow": null,
            "grid_area": null,
            "grid_template_columns": null,
            "flex": null,
            "_model_name": "LayoutModel",
            "justify_items": null,
            "grid_row": null,
            "max_height": null,
            "align_content": null,
            "visibility": null,
            "align_self": null,
            "height": null,
            "min_height": null,
            "padding": null,
            "grid_auto_rows": null,
            "grid_gap": null,
            "max_width": null,
            "order": null,
            "_view_module_version": "1.2.0",
            "grid_template_areas": null,
            "object_position": null,
            "object_fit": null,
            "grid_auto_columns": null,
            "margin": null,
            "display": null,
            "left": null
          }
        },
        "0a693db765544fbda405d664036990f1": {
          "model_module": "@jupyter-widgets/controls",
          "model_name": "DescriptionStyleModel",
          "state": {
            "_view_name": "StyleView",
            "_model_name": "DescriptionStyleModel",
            "description_width": "",
            "_view_module": "@jupyter-widgets/base",
            "_model_module_version": "1.5.0",
            "_view_count": null,
            "_view_module_version": "1.2.0",
            "_model_module": "@jupyter-widgets/controls"
          }
        },
        "4db600f30fc24b3aad8c03a931c611f9": {
          "model_module": "@jupyter-widgets/base",
          "model_name": "LayoutModel",
          "state": {
            "_view_name": "LayoutView",
            "grid_template_rows": null,
            "right": null,
            "justify_content": null,
            "_view_module": "@jupyter-widgets/base",
            "overflow": null,
            "_model_module_version": "1.2.0",
            "_view_count": null,
            "flex_flow": null,
            "width": null,
            "min_width": null,
            "border": null,
            "align_items": null,
            "bottom": null,
            "_model_module": "@jupyter-widgets/base",
            "top": null,
            "grid_column": null,
            "overflow_y": null,
            "overflow_x": null,
            "grid_auto_flow": null,
            "grid_area": null,
            "grid_template_columns": null,
            "flex": null,
            "_model_name": "LayoutModel",
            "justify_items": null,
            "grid_row": null,
            "max_height": null,
            "align_content": null,
            "visibility": null,
            "align_self": null,
            "height": null,
            "min_height": null,
            "padding": null,
            "grid_auto_rows": null,
            "grid_gap": null,
            "max_width": null,
            "order": null,
            "_view_module_version": "1.2.0",
            "grid_template_areas": null,
            "object_position": null,
            "object_fit": null,
            "grid_auto_columns": null,
            "margin": null,
            "display": null,
            "left": null
          }
        },
        "fd0f7012e0b844a0ab41f42413361329": {
          "model_module": "@jupyter-widgets/controls",
          "model_name": "HBoxModel",
          "state": {
            "_view_name": "HBoxView",
            "_dom_classes": [],
            "_model_name": "HBoxModel",
            "_view_module": "@jupyter-widgets/controls",
            "_model_module_version": "1.5.0",
            "_view_count": null,
            "_view_module_version": "1.5.0",
            "box_style": "",
            "layout": "IPY_MODEL_22a027e951a941a6b790b093a678a522",
            "_model_module": "@jupyter-widgets/controls",
            "children": [
              "IPY_MODEL_1040a4d4a1e543d2bf46684af1693e79",
              "IPY_MODEL_ab42741d279149c2b71a07cb08285db7"
            ]
          }
        },
        "22a027e951a941a6b790b093a678a522": {
          "model_module": "@jupyter-widgets/base",
          "model_name": "LayoutModel",
          "state": {
            "_view_name": "LayoutView",
            "grid_template_rows": null,
            "right": null,
            "justify_content": null,
            "_view_module": "@jupyter-widgets/base",
            "overflow": null,
            "_model_module_version": "1.2.0",
            "_view_count": null,
            "flex_flow": null,
            "width": null,
            "min_width": null,
            "border": null,
            "align_items": null,
            "bottom": null,
            "_model_module": "@jupyter-widgets/base",
            "top": null,
            "grid_column": null,
            "overflow_y": null,
            "overflow_x": null,
            "grid_auto_flow": null,
            "grid_area": null,
            "grid_template_columns": null,
            "flex": null,
            "_model_name": "LayoutModel",
            "justify_items": null,
            "grid_row": null,
            "max_height": null,
            "align_content": null,
            "visibility": null,
            "align_self": null,
            "height": null,
            "min_height": null,
            "padding": null,
            "grid_auto_rows": null,
            "grid_gap": null,
            "max_width": null,
            "order": null,
            "_view_module_version": "1.2.0",
            "grid_template_areas": null,
            "object_position": null,
            "object_fit": null,
            "grid_auto_columns": null,
            "margin": null,
            "display": null,
            "left": null
          }
        },
        "1040a4d4a1e543d2bf46684af1693e79": {
          "model_module": "@jupyter-widgets/controls",
          "model_name": "FloatProgressModel",
          "state": {
            "_view_name": "ProgressView",
            "style": "IPY_MODEL_9fd2d8706b054f9da8845a5e72a38d1b",
            "_dom_classes": [],
            "description": "Downloading: 100%",
            "_model_name": "FloatProgressModel",
            "bar_style": "success",
            "max": 231508,
            "_view_module": "@jupyter-widgets/controls",
            "_model_module_version": "1.5.0",
            "value": 231508,
            "_view_count": null,
            "_view_module_version": "1.5.0",
            "orientation": "horizontal",
            "min": 0,
            "description_tooltip": null,
            "_model_module": "@jupyter-widgets/controls",
            "layout": "IPY_MODEL_d5312ce77cc14efa9594bb48732c088e"
          }
        },
        "ab42741d279149c2b71a07cb08285db7": {
          "model_module": "@jupyter-widgets/controls",
          "model_name": "HTMLModel",
          "state": {
            "_view_name": "HTMLView",
            "style": "IPY_MODEL_30b3fdd21782414fa9f8cd38f4d76439",
            "_dom_classes": [],
            "description": "",
            "_model_name": "HTMLModel",
            "placeholder": "​",
            "_view_module": "@jupyter-widgets/controls",
            "_model_module_version": "1.5.0",
            "value": " 232k/232k [00:01&lt;00:00, 165kB/s]",
            "_view_count": null,
            "_view_module_version": "1.5.0",
            "description_tooltip": null,
            "_model_module": "@jupyter-widgets/controls",
            "layout": "IPY_MODEL_1046946cade9494784c5325ce8d28efc"
          }
        },
        "9fd2d8706b054f9da8845a5e72a38d1b": {
          "model_module": "@jupyter-widgets/controls",
          "model_name": "ProgressStyleModel",
          "state": {
            "_view_name": "StyleView",
            "_model_name": "ProgressStyleModel",
            "description_width": "initial",
            "_view_module": "@jupyter-widgets/base",
            "_model_module_version": "1.5.0",
            "_view_count": null,
            "_view_module_version": "1.2.0",
            "bar_color": null,
            "_model_module": "@jupyter-widgets/controls"
          }
        },
        "d5312ce77cc14efa9594bb48732c088e": {
          "model_module": "@jupyter-widgets/base",
          "model_name": "LayoutModel",
          "state": {
            "_view_name": "LayoutView",
            "grid_template_rows": null,
            "right": null,
            "justify_content": null,
            "_view_module": "@jupyter-widgets/base",
            "overflow": null,
            "_model_module_version": "1.2.0",
            "_view_count": null,
            "flex_flow": null,
            "width": null,
            "min_width": null,
            "border": null,
            "align_items": null,
            "bottom": null,
            "_model_module": "@jupyter-widgets/base",
            "top": null,
            "grid_column": null,
            "overflow_y": null,
            "overflow_x": null,
            "grid_auto_flow": null,
            "grid_area": null,
            "grid_template_columns": null,
            "flex": null,
            "_model_name": "LayoutModel",
            "justify_items": null,
            "grid_row": null,
            "max_height": null,
            "align_content": null,
            "visibility": null,
            "align_self": null,
            "height": null,
            "min_height": null,
            "padding": null,
            "grid_auto_rows": null,
            "grid_gap": null,
            "max_width": null,
            "order": null,
            "_view_module_version": "1.2.0",
            "grid_template_areas": null,
            "object_position": null,
            "object_fit": null,
            "grid_auto_columns": null,
            "margin": null,
            "display": null,
            "left": null
          }
        },
        "30b3fdd21782414fa9f8cd38f4d76439": {
          "model_module": "@jupyter-widgets/controls",
          "model_name": "DescriptionStyleModel",
          "state": {
            "_view_name": "StyleView",
            "_model_name": "DescriptionStyleModel",
            "description_width": "",
            "_view_module": "@jupyter-widgets/base",
            "_model_module_version": "1.5.0",
            "_view_count": null,
            "_view_module_version": "1.2.0",
            "_model_module": "@jupyter-widgets/controls"
          }
        },
        "1046946cade9494784c5325ce8d28efc": {
          "model_module": "@jupyter-widgets/base",
          "model_name": "LayoutModel",
          "state": {
            "_view_name": "LayoutView",
            "grid_template_rows": null,
            "right": null,
            "justify_content": null,
            "_view_module": "@jupyter-widgets/base",
            "overflow": null,
            "_model_module_version": "1.2.0",
            "_view_count": null,
            "flex_flow": null,
            "width": null,
            "min_width": null,
            "border": null,
            "align_items": null,
            "bottom": null,
            "_model_module": "@jupyter-widgets/base",
            "top": null,
            "grid_column": null,
            "overflow_y": null,
            "overflow_x": null,
            "grid_auto_flow": null,
            "grid_area": null,
            "grid_template_columns": null,
            "flex": null,
            "_model_name": "LayoutModel",
            "justify_items": null,
            "grid_row": null,
            "max_height": null,
            "align_content": null,
            "visibility": null,
            "align_self": null,
            "height": null,
            "min_height": null,
            "padding": null,
            "grid_auto_rows": null,
            "grid_gap": null,
            "max_width": null,
            "order": null,
            "_view_module_version": "1.2.0",
            "grid_template_areas": null,
            "object_position": null,
            "object_fit": null,
            "grid_auto_columns": null,
            "margin": null,
            "display": null,
            "left": null
          }
        },
        "12631d15703e48f784b904e45a937276": {
          "model_module": "@jupyter-widgets/controls",
          "model_name": "HBoxModel",
          "state": {
            "_view_name": "HBoxView",
            "_dom_classes": [],
            "_model_name": "HBoxModel",
            "_view_module": "@jupyter-widgets/controls",
            "_model_module_version": "1.5.0",
            "_view_count": null,
            "_view_module_version": "1.5.0",
            "box_style": "",
            "layout": "IPY_MODEL_e4a45d42bac04052a92c0b820ca55378",
            "_model_module": "@jupyter-widgets/controls",
            "children": [
              "IPY_MODEL_dece4f1fd3334daf8fe29108a69a608b",
              "IPY_MODEL_1797df97d83e47e1877ac5e10f411204"
            ]
          }
        },
        "e4a45d42bac04052a92c0b820ca55378": {
          "model_module": "@jupyter-widgets/base",
          "model_name": "LayoutModel",
          "state": {
            "_view_name": "LayoutView",
            "grid_template_rows": null,
            "right": null,
            "justify_content": null,
            "_view_module": "@jupyter-widgets/base",
            "overflow": null,
            "_model_module_version": "1.2.0",
            "_view_count": null,
            "flex_flow": null,
            "width": null,
            "min_width": null,
            "border": null,
            "align_items": null,
            "bottom": null,
            "_model_module": "@jupyter-widgets/base",
            "top": null,
            "grid_column": null,
            "overflow_y": null,
            "overflow_x": null,
            "grid_auto_flow": null,
            "grid_area": null,
            "grid_template_columns": null,
            "flex": null,
            "_model_name": "LayoutModel",
            "justify_items": null,
            "grid_row": null,
            "max_height": null,
            "align_content": null,
            "visibility": null,
            "align_self": null,
            "height": null,
            "min_height": null,
            "padding": null,
            "grid_auto_rows": null,
            "grid_gap": null,
            "max_width": null,
            "order": null,
            "_view_module_version": "1.2.0",
            "grid_template_areas": null,
            "object_position": null,
            "object_fit": null,
            "grid_auto_columns": null,
            "margin": null,
            "display": null,
            "left": null
          }
        },
        "dece4f1fd3334daf8fe29108a69a608b": {
          "model_module": "@jupyter-widgets/controls",
          "model_name": "FloatProgressModel",
          "state": {
            "_view_name": "ProgressView",
            "style": "IPY_MODEL_b57ff672dac542e1857f5e7f9ce0c51b",
            "_dom_classes": [],
            "description": "Downloading: 100%",
            "_model_name": "FloatProgressModel",
            "bar_style": "success",
            "max": 1345000672,
            "_view_module": "@jupyter-widgets/controls",
            "_model_module_version": "1.5.0",
            "value": 1345000672,
            "_view_count": null,
            "_view_module_version": "1.5.0",
            "orientation": "horizontal",
            "min": 0,
            "description_tooltip": null,
            "_model_module": "@jupyter-widgets/controls",
            "layout": "IPY_MODEL_b4392a3f043b4949b6002a26eb3ea7e3"
          }
        },
        "1797df97d83e47e1877ac5e10f411204": {
          "model_module": "@jupyter-widgets/controls",
          "model_name": "HTMLModel",
          "state": {
            "_view_name": "HTMLView",
            "style": "IPY_MODEL_cb4de0567c074e1f96940777dc15d367",
            "_dom_classes": [],
            "description": "",
            "_model_name": "HTMLModel",
            "placeholder": "​",
            "_view_module": "@jupyter-widgets/controls",
            "_model_module_version": "1.5.0",
            "value": " 1.35G/1.35G [00:36&lt;00:00, 37.1MB/s]",
            "_view_count": null,
            "_view_module_version": "1.5.0",
            "description_tooltip": null,
            "_model_module": "@jupyter-widgets/controls",
            "layout": "IPY_MODEL_79dfab29cb9e43c7a8b196dbd8905a6f"
          }
        },
        "b57ff672dac542e1857f5e7f9ce0c51b": {
          "model_module": "@jupyter-widgets/controls",
          "model_name": "ProgressStyleModel",
          "state": {
            "_view_name": "StyleView",
            "_model_name": "ProgressStyleModel",
            "description_width": "initial",
            "_view_module": "@jupyter-widgets/base",
            "_model_module_version": "1.5.0",
            "_view_count": null,
            "_view_module_version": "1.2.0",
            "bar_color": null,
            "_model_module": "@jupyter-widgets/controls"
          }
        },
        "b4392a3f043b4949b6002a26eb3ea7e3": {
          "model_module": "@jupyter-widgets/base",
          "model_name": "LayoutModel",
          "state": {
            "_view_name": "LayoutView",
            "grid_template_rows": null,
            "right": null,
            "justify_content": null,
            "_view_module": "@jupyter-widgets/base",
            "overflow": null,
            "_model_module_version": "1.2.0",
            "_view_count": null,
            "flex_flow": null,
            "width": null,
            "min_width": null,
            "border": null,
            "align_items": null,
            "bottom": null,
            "_model_module": "@jupyter-widgets/base",
            "top": null,
            "grid_column": null,
            "overflow_y": null,
            "overflow_x": null,
            "grid_auto_flow": null,
            "grid_area": null,
            "grid_template_columns": null,
            "flex": null,
            "_model_name": "LayoutModel",
            "justify_items": null,
            "grid_row": null,
            "max_height": null,
            "align_content": null,
            "visibility": null,
            "align_self": null,
            "height": null,
            "min_height": null,
            "padding": null,
            "grid_auto_rows": null,
            "grid_gap": null,
            "max_width": null,
            "order": null,
            "_view_module_version": "1.2.0",
            "grid_template_areas": null,
            "object_position": null,
            "object_fit": null,
            "grid_auto_columns": null,
            "margin": null,
            "display": null,
            "left": null
          }
        },
        "cb4de0567c074e1f96940777dc15d367": {
          "model_module": "@jupyter-widgets/controls",
          "model_name": "DescriptionStyleModel",
          "state": {
            "_view_name": "StyleView",
            "_model_name": "DescriptionStyleModel",
            "description_width": "",
            "_view_module": "@jupyter-widgets/base",
            "_model_module_version": "1.5.0",
            "_view_count": null,
            "_view_module_version": "1.2.0",
            "_model_module": "@jupyter-widgets/controls"
          }
        },
        "79dfab29cb9e43c7a8b196dbd8905a6f": {
          "model_module": "@jupyter-widgets/base",
          "model_name": "LayoutModel",
          "state": {
            "_view_name": "LayoutView",
            "grid_template_rows": null,
            "right": null,
            "justify_content": null,
            "_view_module": "@jupyter-widgets/base",
            "overflow": null,
            "_model_module_version": "1.2.0",
            "_view_count": null,
            "flex_flow": null,
            "width": null,
            "min_width": null,
            "border": null,
            "align_items": null,
            "bottom": null,
            "_model_module": "@jupyter-widgets/base",
            "top": null,
            "grid_column": null,
            "overflow_y": null,
            "overflow_x": null,
            "grid_auto_flow": null,
            "grid_area": null,
            "grid_template_columns": null,
            "flex": null,
            "_model_name": "LayoutModel",
            "justify_items": null,
            "grid_row": null,
            "max_height": null,
            "align_content": null,
            "visibility": null,
            "align_self": null,
            "height": null,
            "min_height": null,
            "padding": null,
            "grid_auto_rows": null,
            "grid_gap": null,
            "max_width": null,
            "order": null,
            "_view_module_version": "1.2.0",
            "grid_template_areas": null,
            "object_position": null,
            "object_fit": null,
            "grid_auto_columns": null,
            "margin": null,
            "display": null,
            "left": null
          }
        }
      }
    }
  },
  "cells": [
    {
      "cell_type": "markdown",
      "metadata": {
        "id": "Flq2ly7dnjKr"
      },
      "source": [
        "\n",
        "\n",
        "# **Step-by-step guide: Smiley prediction on Twitter data**\n",
        "\n",
        "In this notebook we will finetune CT-BERT for sentiment (emoji) classification.\n",
        "\n",
        "Learn more about the project [here](https://github.com/CS-433/cs-433-project-2-mlakes/)\n",
        "\n",
        "### **Before proceeding**\n",
        "Create a copy of this notebook by going to:\n",
        " `File 🡒 Save a Copy in Drive`\n",
        "\n",
        "### **Contents**\n",
        "See \"Sommaire\" (table of contents) in the sidebar to the left."
      ]
    },
    {
      "cell_type": "markdown",
      "metadata": {
        "id": "wcWWY9VldBBD"
      },
      "source": [
        "# Colab set-up"
      ]
    },
    {
      "cell_type": "markdown",
      "metadata": {
        "id": "In8j7t_EdgRV"
      },
      "source": [
        "## 0.1 Training with a GPU\n",
        "\n",
        "Make sure to change the runtime type to GPU under:\n",
        "\n",
        "`Exécution 🡒 Modifier le type d'exécution \n",
        "To GPU and if possible Mémoire RAM élevée (Colab Pro)`\n",
        "\n",
        "Verify that we are using GPUs, otherwise training will take a very long time. "
      ]
    },
    {
      "cell_type": "code",
      "metadata": {
        "colab": {
          "base_uri": "https://localhost:8080/"
        },
        "id": "sDwAyzTUdABf",
        "outputId": "9a65a119-8cf1-4956-fd5c-29f210a5d214"
      },
      "source": [
        "import torch\n",
        "if torch.cuda.is_available():    \n",
        "    print('There are %d GPU(s) available.' % torch.cuda.device_count())\n",
        "    print('We will use the GPU:', torch.cuda.get_device_name(0))\n",
        "else:\n",
        "    print('No GPU available :( using the CPU instead.')"
      ],
      "execution_count": 39,
      "outputs": [
        {
          "output_type": "stream",
          "text": [
            "There are 1 GPU(s) available.\n",
            "We will use the GPU: Tesla P100-PCIE-16GB\n"
          ],
          "name": "stdout"
        }
      ]
    },
    {
      "cell_type": "markdown",
      "metadata": {
        "id": "wcQZJU8ppvvn"
      },
      "source": [
        "## 0.2 Mounting Google Drive. \n",
        "\n",
        "\n",
        "\n"
      ]
    },
    {
      "cell_type": "code",
      "metadata": {
        "id": "TFI-JcGdqOgc",
        "colab": {
          "base_uri": "https://localhost:8080/"
        },
        "outputId": "b167d985-0923-4452-8185-1c0809590cfa"
      },
      "source": [
        "# Mounting the Drive allows us to save and access our files\n",
        "from google.colab import drive\n",
        "drive.mount('/content/drive/', force_remount=True)"
      ],
      "execution_count": 40,
      "outputs": [
        {
          "output_type": "stream",
          "text": [
            "Mounted at /content/drive/\n"
          ],
          "name": "stdout"
        }
      ]
    },
    {
      "cell_type": "code",
      "metadata": {
        "id": "JMucvrEHqyAH"
      },
      "source": [
        "# Go to main directory\n",
        "import os\n",
        "os.chdir(\"/content/drive/My Drive\")"
      ],
      "execution_count": 41,
      "outputs": []
    },
    {
      "cell_type": "markdown",
      "metadata": {
        "id": "uLA25BLZhNPB"
      },
      "source": [
        "## 0.3 Cloning the repository\n"
      ]
    },
    {
      "cell_type": "code",
      "metadata": {
        "colab": {
          "base_uri": "https://localhost:8080/"
        },
        "id": "K_ZH5zV5fsBe",
        "outputId": "89d0c705-c13d-4f31-bf6c-64b73b270551"
      },
      "source": [
        "# Clone our repo \n",
        "!git clone https://<username>:<password>@github.com/CS-433/cs-433-project-2-mlakes MLProject2"
      ],
      "execution_count": 42,
      "outputs": [
        {
          "output_type": "stream",
          "text": [
            "Cloning into 'MLProject2'...\n",
            "remote: Enumerating objects: 120, done.\u001b[K\n",
            "remote: Counting objects: 100% (120/120), done.\u001b[K\n",
            "remote: Compressing objects: 100% (91/91), done.\u001b[K\n",
            "remote: Total 170 (delta 65), reused 51 (delta 27), pack-reused 50\u001b[K\n",
            "Receiving objects: 100% (170/170), 74.51 MiB | 20.21 MiB/s, done.\n",
            "Resolving deltas: 100% (70/70), done.\n"
          ],
          "name": "stdout"
        }
      ]
    },
    {
      "cell_type": "code",
      "metadata": {
        "id": "r5ENjpBmIHIK"
      },
      "source": [
        "os.chdir(\"/content/drive/My Drive/MLProject2\")"
      ],
      "execution_count": 44,
      "outputs": []
    },
    {
      "cell_type": "code",
      "metadata": {
        "colab": {
          "base_uri": "https://localhost:8080/"
        },
        "id": "AQiFhkNJEdyl",
        "outputId": "e55fbf49-8b50-43d5-b45c-2b8902262641"
      },
      "source": [
        "!git checkout colab"
      ],
      "execution_count": 45,
      "outputs": [
        {
          "output_type": "stream",
          "text": [
            "M\tsrc/preprocessing_glove/build_vocab.sh\n",
            "M\tsrc/preprocessing_glove/cooc.py\n",
            "M\tsrc/preprocessing_glove/cut_vocab.sh\n",
            "M\tsrc/preprocessing_glove/glove_template.py\n",
            "M\tsrc/preprocessing_glove/pickle_vocab.py\n",
            "Branch 'colab' set up to track remote branch 'colab' from 'origin'.\n",
            "Switched to a new branch 'colab'\n"
          ],
          "name": "stdout"
        }
      ]
    },
    {
      "cell_type": "code",
      "metadata": {
        "id": "Rq9VonJQcDMu",
        "colab": {
          "base_uri": "https://localhost:8080/"
        },
        "outputId": "ab7f52b3-a836-4a6d-cf2b-f582e4247d77"
      },
      "source": [
        "# Move to repository and visualize files (similar to cd MLProject2 and ls)\n",
        "os.chdir(\"/content/drive/My Drive/MLProject2\")\n",
        "os.listdir()"
      ],
      "execution_count": 46,
      "outputs": [
        {
          "output_type": "execute_result",
          "data": {
            "text/plain": [
              "['.git',\n",
              " '.gitignore',\n",
              " 'Dockerfile-notebook',\n",
              " 'README.md',\n",
              " 'data',\n",
              " 'docs',\n",
              " 'models',\n",
              " 'notebooks',\n",
              " 'predictions',\n",
              " 'requirements.txt',\n",
              " 'saved_models',\n",
              " 'src',\n",
              " 'test']"
            ]
          },
          "metadata": {
            "tags": []
          },
          "execution_count": 46
        }
      ]
    },
    {
      "cell_type": "markdown",
      "metadata": {
        "id": "xW436SUktcOT"
      },
      "source": [
        "# Download Dataset\n",
        "Download the data from [here](https://www.aicrowd.com/challenges/epfl-ml-text-classification/dataset_files) and place it in folder data. You can also download our [copy](https://drive.google.com/file/d/1ve0X5Mj6RAhtb4XFZUa5W_A9HIt4-bgE/view?usp=sharing) from Drive "
      ]
    },
    {
      "cell_type": "code",
      "metadata": {
        "colab": {
          "base_uri": "https://localhost:8080/"
        },
        "id": "A84SZ9RXi3Tl",
        "outputId": "fa0e59f7-04fc-46e6-c24e-30ec8254c7b6"
      },
      "source": [
        "!unzip data/twitter-datasets.zip -d data/"
      ],
      "execution_count": 47,
      "outputs": [
        {
          "output_type": "stream",
          "text": [
            "Archive:  data/twitter-datasets.zip\n",
            "  inflating: data/twitter-datasets/sample_submission.csv  \n",
            "  inflating: data/twitter-datasets/test_data.txt  \n",
            "  inflating: data/twitter-datasets/train_neg_full.txt  \n",
            "  inflating: data/twitter-datasets/train_neg.txt  \n",
            "  inflating: data/twitter-datasets/train_pos_full.txt  \n",
            "  inflating: data/twitter-datasets/train_pos.txt  \n"
          ],
          "name": "stdout"
        }
      ]
    },
    {
      "cell_type": "code",
      "metadata": {
        "id": "yXnm9yJJwTz3"
      },
      "source": [
        "# Move to main data folder\n",
        "!mv data/twitter-datasets/train_neg.txt data/train_neg.txt \n",
        "!mv data/twitter-datasets/train_pos.txt data/train_pos.txt \n",
        "!mv data/twitter-datasets/train_neg_full.txt data/train_neg_full.txt \n",
        "!mv data/twitter-datasets/train_pos_full.txt data/train_pos_full.txt \n",
        "!mv data/twitter-datasets/test_data.txt data/test_data.txt"
      ],
      "execution_count": 48,
      "outputs": []
    },
    {
      "cell_type": "markdown",
      "metadata": {
        "id": "mYD-ZFYLtw5I"
      },
      "source": [
        "# Install and import libraries\n",
        "Install the required dependencies"
      ]
    },
    {
      "cell_type": "code",
      "metadata": {
        "id": "UXcakxOhtv1q"
      },
      "source": [
        "%%capture\n",
        "!pip install emoji\n",
        "!pip install unidecode\n",
        "!pip install flair\n",
        "!pip install git+https://github.com/huggingface/transformers.git"
      ],
      "execution_count": 49,
      "outputs": []
    },
    {
      "cell_type": "code",
      "metadata": {
        "id": "EZnWw7XruBNt"
      },
      "source": [
        "import sys\n",
        "sys.path.append(\"/content/drive/My Drive/MLProject2\")"
      ],
      "execution_count": 52,
      "outputs": []
    },
    {
      "cell_type": "code",
      "metadata": {
        "id": "VZiVgEo8vNyh"
      },
      "source": [
        "import pandas as pd\n",
        "import numpy as np\n",
        "\n",
        "from src.preprocessing import apply_preprocessing, apply_preprocessing_bert\n",
        "from src.data_loading import load_tweets, load_test_tweets, split_data, seed_everything, split_data_bert\n",
        "from src.data_cleaning import clean_text\n",
        "from src.models.bi_lstm import run_bidirectional_lstm\n",
        "from src.models.machine_learning_models import run_tfidf_ml_model\n",
        "from src.models.few_shot import run_zero_shot\n",
        "from src.models.bert import run_bert, predict_bert"
      ],
      "execution_count": 53,
      "outputs": []
    },
    {
      "cell_type": "markdown",
      "metadata": {
        "id": "-xf9GWjynC25"
      },
      "source": [
        "# Training"
      ]
    },
    {
      "cell_type": "code",
      "metadata": {
        "id": "fK8V9vvfvTAd"
      },
      "source": [
        "# Global variables\n",
        "model_name = 'digitalepidemiologylab/covid-twitter-bert'\n",
        "\n",
        "# For reproductibility \n",
        "seed_everything()"
      ],
      "execution_count": 54,
      "outputs": []
    },
    {
      "cell_type": "markdown",
      "metadata": {
        "id": "USSCvIXZnJ4O"
      },
      "source": [
        "## 1.1 Load the training set"
      ]
    },
    {
      "cell_type": "code",
      "metadata": {
        "id": "byJHwHt2xcrT"
      },
      "source": [
        "os.chdir(\"/content/drive/My Drive/MLProject2/src\")"
      ],
      "execution_count": 55,
      "outputs": []
    },
    {
      "cell_type": "markdown",
      "metadata": {
        "id": "9EhExwZUnTIm"
      },
      "source": [
        "In order to demostrate the training pipeline we are going to use a small fraction of the dataset.\n",
        "Please note that the model training was used with ALL the data"
      ]
    },
    {
      "cell_type": "code",
      "metadata": {
        "colab": {
          "base_uri": "https://localhost:8080/"
        },
        "id": "xgYw1bF5vmHK",
        "outputId": "35645aa6-2b63-446c-dadd-a2d6699a861e"
      },
      "source": [
        "#tweets = load_tweets(sample=False, frac=1)\n",
        "tweets = load_tweets(sample=True, frac=0.001)"
      ],
      "execution_count": 56,
      "outputs": [
        {
          "output_type": "stream",
          "text": [
            "Positive tweets: 98\n",
            "Negative tweets: 99\n",
            "Most frequent label model: 0.503\n"
          ],
          "name": "stdout"
        }
      ]
    },
    {
      "cell_type": "markdown",
      "metadata": {
        "id": "tIksRotxzl_H"
      },
      "source": [
        "## 1.2 Preprocess the training set\n",
        "\n",
        "Preprocessing does two things:\n",
        "1. cleans the tweets \n",
        "2. tokenizes the cleaned tweets by:\n",
        "  * adding [CLS] and [SEP] tokens\n",
        "  * adds padding (maximum length 100)\n",
        "  * creates attention masks\n",
        "\n",
        "\n"
      ]
    },
    {
      "cell_type": "code",
      "metadata": {
        "id": "hR6tiEeO0SD1"
      },
      "source": [
        "# To see complete documentation of our functions\n",
        "? apply_preprocessing_bert"
      ],
      "execution_count": 57,
      "outputs": []
    },
    {
      "cell_type": "code",
      "metadata": {
        "colab": {
          "base_uri": "https://localhost:8080/"
        },
        "id": "vdf7TiVAKF3w",
        "outputId": "39d431e8-580b-40b0-fc51-bb9eb070cf14"
      },
      "source": [
        "# Example of clean function\n",
        "raw_tweet = tweets.tweet[9]\n",
        "cleaned_tweet = clean_text(raw_tweet)\n",
        "print(raw_tweet)\n",
        "print(cleaned_tweet)\n",
        "\n",
        "raw_tweet = tweets.tweet[17]\n",
        "cleaned_tweet = clean_text(raw_tweet)\n",
        "print(raw_tweet)\n",
        "print(cleaned_tweet)"
      ],
      "execution_count": 58,
      "outputs": [
        {
          "output_type": "stream",
          "text": [
            "<user> translation pleaseee for international fans\n",
            "translation please for international fans\n",
            "<user> i #believe one day u will notice me ..  ...\n",
            "i #believe one day you will notice me .. ...\n"
          ],
          "name": "stdout"
        }
      ]
    },
    {
      "cell_type": "code",
      "metadata": {
        "id": "7suSJzgmxs3Q",
        "colab": {
          "base_uri": "https://localhost:8080/",
          "height": 116,
          "referenced_widgets": [
            "eff8797500864aa88c7d32728ea27972",
            "ec808ab3da8c42c7a90c6e4962511f8e",
            "5779feb9e76344b0b598d4364756cbd6",
            "3d27da18e3374e54891f0adad934070d",
            "e8cbca54a51b4b0db315951fc7df0c0f",
            "7592e62e108345ecbc1a146a65307d23",
            "0a693db765544fbda405d664036990f1",
            "4db600f30fc24b3aad8c03a931c611f9",
            "fd0f7012e0b844a0ab41f42413361329",
            "22a027e951a941a6b790b093a678a522",
            "1040a4d4a1e543d2bf46684af1693e79",
            "ab42741d279149c2b71a07cb08285db7",
            "9fd2d8706b054f9da8845a5e72a38d1b",
            "d5312ce77cc14efa9594bb48732c088e",
            "30b3fdd21782414fa9f8cd38f4d76439",
            "1046946cade9494784c5325ce8d28efc"
          ]
        },
        "outputId": "1dfc504b-5479-4604-ec03-a850b8dd9e79"
      },
      "source": [
        "tweets = apply_preprocessing_bert(tweets, model_name)"
      ],
      "execution_count": 59,
      "outputs": [
        {
          "output_type": "display_data",
          "data": {
            "application/vnd.jupyter.widget-view+json": {
              "model_id": "eff8797500864aa88c7d32728ea27972",
              "version_minor": 0,
              "version_major": 2
            },
            "text/plain": [
              "HBox(children=(FloatProgress(value=0.0, description='Downloading', max=421.0, style=ProgressStyle(description_…"
            ]
          },
          "metadata": {
            "tags": []
          }
        },
        {
          "output_type": "stream",
          "text": [
            "\n"
          ],
          "name": "stdout"
        },
        {
          "output_type": "display_data",
          "data": {
            "application/vnd.jupyter.widget-view+json": {
              "model_id": "fd0f7012e0b844a0ab41f42413361329",
              "version_minor": 0,
              "version_major": 2
            },
            "text/plain": [
              "HBox(children=(FloatProgress(value=0.0, description='Downloading', max=231508.0, style=ProgressStyle(descripti…"
            ]
          },
          "metadata": {
            "tags": []
          }
        },
        {
          "output_type": "stream",
          "text": [
            "\n"
          ],
          "name": "stdout"
        }
      ]
    },
    {
      "cell_type": "markdown",
      "metadata": {
        "id": "dg-ys92uol2c"
      },
      "source": [
        "After the preprocessing, we have a tensor of three parts.\n",
        "1. Tokens\n",
        "2. Attention mask\n",
        "3. Label\n",
        "\n",
        "See the example below"
      ]
    },
    {
      "cell_type": "code",
      "metadata": {
        "colab": {
          "base_uri": "https://localhost:8080/"
        },
        "id": "CsB0Kw5ooXp9",
        "outputId": "331d5524-31d2-4ea5-dc8c-ede02099e592"
      },
      "source": [
        "tweets[17]"
      ],
      "execution_count": 60,
      "outputs": [
        {
          "output_type": "execute_result",
          "data": {
            "text/plain": [
              "(tensor([ 101, 1045, 1001, 2903, 2028, 2154, 2017, 2097, 5060, 2033, 1012, 1012,\n",
              "         1012, 1012, 1012,  102,    0,    0,    0,    0,    0,    0,    0,    0,\n",
              "            0,    0,    0,    0,    0,    0,    0,    0,    0,    0,    0,    0,\n",
              "            0,    0,    0,    0,    0,    0,    0,    0,    0,    0,    0,    0,\n",
              "            0,    0,    0,    0,    0,    0,    0,    0,    0,    0,    0,    0,\n",
              "            0,    0,    0,    0,    0,    0,    0,    0,    0,    0,    0,    0,\n",
              "            0,    0,    0,    0,    0,    0,    0,    0,    0,    0,    0,    0,\n",
              "            0,    0,    0,    0,    0,    0,    0,    0,    0,    0,    0,    0,\n",
              "            0,    0,    0,    0]),\n",
              " tensor([1, 1, 1, 1, 1, 1, 1, 1, 1, 1, 1, 1, 1, 1, 1, 1, 0, 0, 0, 0, 0, 0, 0, 0,\n",
              "         0, 0, 0, 0, 0, 0, 0, 0, 0, 0, 0, 0, 0, 0, 0, 0, 0, 0, 0, 0, 0, 0, 0, 0,\n",
              "         0, 0, 0, 0, 0, 0, 0, 0, 0, 0, 0, 0, 0, 0, 0, 0, 0, 0, 0, 0, 0, 0, 0, 0,\n",
              "         0, 0, 0, 0, 0, 0, 0, 0, 0, 0, 0, 0, 0, 0, 0, 0, 0, 0, 0, 0, 0, 0, 0, 0,\n",
              "         0, 0, 0, 0]),\n",
              " tensor(1))"
            ]
          },
          "metadata": {
            "tags": []
          },
          "execution_count": 60
        }
      ]
    },
    {
      "cell_type": "markdown",
      "metadata": {
        "id": "r0LtvY5Q0k_8"
      },
      "source": [
        "## 1.3 Transformer training\n",
        "\n"
      ]
    },
    {
      "cell_type": "markdown",
      "metadata": {
        "id": "KAexdKJCpMMe"
      },
      "source": [
        "For this example we used 90% for training and 10% for testing. Note that for the final model 100% of the data was used to train."
      ]
    },
    {
      "cell_type": "code",
      "metadata": {
        "id": "_LbHerXuxyKC"
      },
      "source": [
        "train_tweets, val_tweets = split_data_bert(tweets, ratio=0.9)\n"
      ],
      "execution_count": 61,
      "outputs": []
    },
    {
      "cell_type": "code",
      "metadata": {
        "colab": {
          "base_uri": "https://localhost:8080/",
          "height": 589,
          "referenced_widgets": [
            "12631d15703e48f784b904e45a937276",
            "e4a45d42bac04052a92c0b820ca55378",
            "dece4f1fd3334daf8fe29108a69a608b",
            "1797df97d83e47e1877ac5e10f411204",
            "b57ff672dac542e1857f5e7f9ce0c51b",
            "b4392a3f043b4949b6002a26eb3ea7e3",
            "cb4de0567c074e1f96940777dc15d367",
            "79dfab29cb9e43c7a8b196dbd8905a6f"
          ]
        },
        "id": "eNUUJ6MLztsD",
        "outputId": "213589b5-2fe4-480c-b6b8-43f3ee9796a8"
      },
      "source": [
        "run_bert(train_tweets=train_tweets,\n",
        "          val_tweets=val_tweets,\n",
        "          save_model = True,\n",
        "          learning_rate = 5e-6,\n",
        "          model_name = 'bert',\n",
        "          epochs = 3)"
      ],
      "execution_count": 62,
      "outputs": [
        {
          "output_type": "stream",
          "text": [
            "\n",
            "----------------------------------------------------------------------------------------------------\n",
            "MODEL TO RUN: Neural network with bert tokens\n",
            "----------------------------------------------------------------------------------------------------\n",
            "\n",
            "Creating batches...\n"
          ],
          "name": "stdout"
        },
        {
          "output_type": "display_data",
          "data": {
            "application/vnd.jupyter.widget-view+json": {
              "model_id": "12631d15703e48f784b904e45a937276",
              "version_minor": 0,
              "version_major": 2
            },
            "text/plain": [
              "HBox(children=(FloatProgress(value=0.0, description='Downloading', max=1345000672.0, style=ProgressStyle(descr…"
            ]
          },
          "metadata": {
            "tags": []
          }
        },
        {
          "output_type": "stream",
          "text": [
            "\n"
          ],
          "name": "stdout"
        },
        {
          "output_type": "stream",
          "text": [
            "Some weights of the model checkpoint at digitalepidemiologylab/covid-twitter-bert were not used when initializing BertForSequenceClassification: ['cls.predictions.bias', 'cls.predictions.transform.dense.weight', 'cls.predictions.transform.dense.bias', 'cls.predictions.transform.LayerNorm.weight', 'cls.predictions.transform.LayerNorm.bias', 'cls.predictions.decoder.weight', 'cls.predictions.decoder.bias', 'cls.seq_relationship.weight', 'cls.seq_relationship.bias']\n",
            "- This IS expected if you are initializing BertForSequenceClassification from the checkpoint of a model trained on another task or with another architecture (e.g. initializing a BertForSequenceClassification model from a BertForPreTraining model).\n",
            "- This IS NOT expected if you are initializing BertForSequenceClassification from the checkpoint of a model that you expect to be exactly identical (initializing a BertForSequenceClassification model from a BertForSequenceClassification model).\n",
            "Some weights of BertForSequenceClassification were not initialized from the model checkpoint at digitalepidemiologylab/covid-twitter-bert and are newly initialized: ['classifier.weight', 'classifier.bias']\n",
            "You should probably TRAIN this model on a down-stream task to be able to use it for predictions and inference.\n",
            "Iteration: 100%|██████████| 6/6 [00:05<00:00,  1.01it/s]\n"
          ],
          "name": "stderr"
        },
        {
          "output_type": "stream",
          "text": [
            "Saving model...\n"
          ],
          "name": "stdout"
        },
        {
          "output_type": "stream",
          "text": [
            "\rIteration:   0%|          | 0/1 [00:00<?, ?it/s]"
          ],
          "name": "stderr"
        },
        {
          "output_type": "stream",
          "text": [
            "./../models/bert_0\n",
            "Done!\n"
          ],
          "name": "stdout"
        },
        {
          "output_type": "stream",
          "text": [
            "Iteration: 100%|██████████| 1/1 [00:00<00:00,  4.06it/s]\n",
            "Iteration:   0%|          | 0/6 [00:00<?, ?it/s]"
          ],
          "name": "stderr"
        },
        {
          "output_type": "stream",
          "text": [
            "EPOCH: 0. Losses: train = 0.6995129485925039, val = 0.6609669923782349.             Accuracy: 0.6\n"
          ],
          "name": "stdout"
        },
        {
          "output_type": "stream",
          "text": [
            "Iteration: 100%|██████████| 6/6 [00:05<00:00,  1.03it/s]\n"
          ],
          "name": "stderr"
        },
        {
          "output_type": "stream",
          "text": [
            "Saving model...\n"
          ],
          "name": "stdout"
        },
        {
          "output_type": "stream",
          "text": [
            "\rIteration:   0%|          | 0/1 [00:00<?, ?it/s]"
          ],
          "name": "stderr"
        },
        {
          "output_type": "stream",
          "text": [
            "./../models/bert_1\n",
            "Done!\n"
          ],
          "name": "stdout"
        },
        {
          "output_type": "stream",
          "text": [
            "Iteration: 100%|██████████| 1/1 [00:00<00:00,  4.29it/s]\n",
            "Iteration:   0%|          | 0/6 [00:00<?, ?it/s]"
          ],
          "name": "stderr"
        },
        {
          "output_type": "stream",
          "text": [
            "EPOCH: 1. Losses: train = 0.629539300998052, val = 0.6394665837287903.             Accuracy: 0.7\n"
          ],
          "name": "stdout"
        },
        {
          "output_type": "stream",
          "text": [
            "Iteration: 100%|██████████| 6/6 [00:05<00:00,  1.02it/s]\n"
          ],
          "name": "stderr"
        },
        {
          "output_type": "stream",
          "text": [
            "Saving model...\n"
          ],
          "name": "stdout"
        },
        {
          "output_type": "stream",
          "text": [
            "\rIteration:   0%|          | 0/1 [00:00<?, ?it/s]"
          ],
          "name": "stderr"
        },
        {
          "output_type": "stream",
          "text": [
            "./../models/bert_2\n",
            "Done!\n"
          ],
          "name": "stdout"
        },
        {
          "output_type": "stream",
          "text": [
            "Iteration: 100%|██████████| 1/1 [00:00<00:00,  4.18it/s]"
          ],
          "name": "stderr"
        },
        {
          "output_type": "stream",
          "text": [
            "EPOCH: 2. Losses: train = 0.6037647823492686, val = 0.6331812143325806.             Accuracy: 0.7\n"
          ],
          "name": "stdout"
        },
        {
          "output_type": "stream",
          "text": [
            "\n"
          ],
          "name": "stderr"
        }
      ]
    },
    {
      "cell_type": "markdown",
      "metadata": {
        "id": "sOfcBYYvAhmq"
      },
      "source": [
        "# Testing\n",
        "Now we are going to use the trained model to predict.\n",
        "\n",
        "You can also use our pre-trained model with all the data. Download the model [here](https://drive.google.com/drive/folders/1aLWxJdPFwOyqvNkkc_QyzhBC9ofY9tgS?usp=sharing) and place it in the models folder. "
      ]
    },
    {
      "cell_type": "markdown",
      "metadata": {
        "id": "md1yIx5hqEss"
      },
      "source": [
        "## 2.1 Load the testing set"
      ]
    },
    {
      "cell_type": "code",
      "metadata": {
        "id": "PEbiaYVHqBeZ"
      },
      "source": [
        "test_tweets = load_test_tweets()\n",
        "test_tweets['polarity'] =  pd.to_numeric(test_tweets.id)  # to use same preprocessing function"
      ],
      "execution_count": 63,
      "outputs": []
    },
    {
      "cell_type": "markdown",
      "metadata": {
        "id": "AWh5nT3iqTZf"
      },
      "source": [
        "## 2.2 Preprocess the testing set"
      ]
    },
    {
      "cell_type": "code",
      "metadata": {
        "id": "caFc04QvFABB"
      },
      "source": [
        "dataset = apply_preprocessing_bert(test_tweets)"
      ],
      "execution_count": 64,
      "outputs": []
    },
    {
      "cell_type": "markdown",
      "metadata": {
        "id": "f6-0q9WFqjny"
      },
      "source": [
        "## 2.3 Make the predictions with our model"
      ]
    },
    {
      "cell_type": "code",
      "metadata": {
        "colab": {
          "base_uri": "https://localhost:8080/"
        },
        "id": "KxprUqfuqpUp",
        "outputId": "9a4a0e52-b9d6-4639-ef15-901c04b1bc6d"
      },
      "source": [
        "test_ids_list, binary_preds_list = predict_bert(dataset, 'bert_2')"
      ],
      "execution_count": null,
      "outputs": [
        {
          "output_type": "stream",
          "text": [
            "Iteration:  15%|█▌        | 44/288 [00:13<01:16,  3.20it/s]"
          ],
          "name": "stderr"
        }
      ]
    },
    {
      "cell_type": "markdown",
      "metadata": {
        "id": "ayoKK5Sjqtrm"
      },
      "source": [
        "## 2.4 Format and save the predictions"
      ]
    },
    {
      "cell_type": "code",
      "metadata": {
        "id": "9aft0usS0FYf"
      },
      "source": [
        "test_ids = np.concatenate(test_ids_list).ravel()\n",
        "binary_preds = np.concatenate(binary_preds_list).ravel()\n",
        "binary_preds = np.where(binary_preds==0, -1, binary_preds) \n",
        "results = pd.DataFrame({'Id': test_ids, 'Prediction': binary_preds})\n",
        "results.to_csv(\"./../predictions/predictions.csv\", index=False)"
      ],
      "execution_count": null,
      "outputs": []
    },
    {
      "cell_type": "code",
      "metadata": {
        "id": "QfcL5mrAVOuw"
      },
      "source": [
        "results.head()"
      ],
      "execution_count": null,
      "outputs": []
    },
    {
      "cell_type": "markdown",
      "metadata": {
        "id": "UOMgxMK7P3xp"
      },
      "source": [
        "# Run models with embeddings\n",
        "\n",
        "The BiLSTM can be trained with glove and word2vec embeddings.\n"
      ]
    },
    {
      "cell_type": "markdown",
      "metadata": {
        "id": "hiuAY9IyTQQb"
      },
      "source": [
        "## 3.1 Word2Vec\n",
        "Constructs a a vocabulary list of words appearing at least 5 times.\n"
      ]
    },
    {
      "cell_type": "code",
      "metadata": {
        "id": "QagakZ0vhiFw"
      },
      "source": [
        "os.chdir(\"/content/drive/My Drive/MLProject2\")"
      ],
      "execution_count": null,
      "outputs": []
    },
    {
      "cell_type": "code",
      "metadata": {
        "id": "f-r6bc0FTOpW"
      },
      "source": [
        "!sh src/preprocessing_glove/build_vocab.sh\n",
        "!sh src/preprocessing_glove/cut_vocab.sh\n",
        "!python src/preprocessing_glove/pickle_vocab.py\n"
      ],
      "execution_count": null,
      "outputs": []
    },
    {
      "cell_type": "code",
      "metadata": {
        "id": "R7-Bvzt6iIRl"
      },
      "source": [
        "os.chdir(\"/content/drive/My Drive/MLProject2/src\")"
      ],
      "execution_count": null,
      "outputs": []
    },
    {
      "cell_type": "code",
      "metadata": {
        "id": "6WsQPc1afFIP"
      },
      "source": [
        "tweets = load_tweets(sample=True, frac=0.001)\n",
        "tweets = apply_preprocessing(tweets)\n",
        "run_bidirectional_lstm(tweets=tweets[['tweet']],\n",
        "                        labels=tweets[['polarity']],\n",
        "                        save_model=False,\n",
        "                        embeddings='word2vec')"
      ],
      "execution_count": null,
      "outputs": []
    },
    {
      "cell_type": "markdown",
      "metadata": {
        "id": "yshTc6TDWbof"
      },
      "source": [
        "## 3.2 GloVe"
      ]
    },
    {
      "cell_type": "code",
      "metadata": {
        "id": "f2DErj8kW8O6"
      },
      "source": [
        "os.chdir(\"/content/drive/My Drive/MLProject2\")"
      ],
      "execution_count": null,
      "outputs": []
    },
    {
      "cell_type": "code",
      "metadata": {
        "id": "QNQSJ_m0WbRO"
      },
      "source": [
        "!wget http://nlp.stanford.edu/data/glove.twitter.27B.zip\n",
        "!mv glove.twitter.27B.zip data/embeddings/glove.twitter.27B.zip\n",
        "!unzip data/embeddings/glove.twitter.27B.zip -d data/embeddings"
      ],
      "execution_count": null,
      "outputs": []
    },
    {
      "cell_type": "code",
      "metadata": {
        "id": "B8o_QfHzesxH"
      },
      "source": [
        "os.chdir(\"/content/drive/My Drive/MLProject2/src\")"
      ],
      "execution_count": null,
      "outputs": []
    },
    {
      "cell_type": "code",
      "metadata": {
        "id": "z2MCtatPW6LR"
      },
      "source": [
        "run_bidirectional_lstm(tweets=tweets[['tweet']],\n",
        "                        labels=tweets[['polarity']],\n",
        "                        save_model=False,\n",
        "                        embeddings='glove')"
      ],
      "execution_count": null,
      "outputs": []
    },
    {
      "cell_type": "code",
      "metadata": {
        "id": "deF3GleDJV5a"
      },
      "source": [
        ""
      ],
      "execution_count": null,
      "outputs": []
    }
  ]
}